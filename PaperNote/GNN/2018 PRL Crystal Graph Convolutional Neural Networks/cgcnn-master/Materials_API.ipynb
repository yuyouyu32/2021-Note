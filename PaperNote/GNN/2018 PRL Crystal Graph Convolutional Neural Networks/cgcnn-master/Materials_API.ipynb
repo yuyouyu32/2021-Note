{
 "cells": [
  {
   "cell_type": "code",
   "execution_count": 33,
   "source": [
    "from pymatgen.ext.matproj import MPRester\n",
    "with MPRester(\"nSJziyd9I8xL9cVIdE8\") as m:\n",
    "\n",
    "    # Structure for material id\n",
    "    structure = m.get_structure_by_material_id(\"mp-571420\")\n",
    "    print(structure)\n",
    "    \n",
    "    # Dos for material id\n",
    "    # dos = m.get_dos_by_material_id(\"mp-571420\")\n",
    "    # print(dos)\n",
    "\n",
    "    # Bandstructure for material id\n",
    "    # bandstructure = m.get_bandstructure_by_material_id(\"mp-571420\")\n",
    "\n",
    "    # To get a list of data for all entries having formula Fe2O3\n",
    "    # data = m.get_data(\"Fe2O3\")\n",
    "\n",
    "    # To get the energies of all entries having formula Fe2O3\n",
    "    # energies = m.get_data(\"Fe2O3\", \"energy\")"
   ],
   "outputs": [
    {
     "output_type": "stream",
     "name": "stdout",
     "text": [
      "Full Formula (Ba1 Ni2 P4)\n",
      "Reduced Formula: Ba(NiP2)2\n",
      "abc   :   5.488641   5.488641   5.488641\n",
      "angles: 116.061472 107.215095 105.349429\n",
      "Sites (7)\n",
      "  #  SP           a         b         c    magmom\n",
      "---  ----  --------  --------  --------  --------\n",
      "  0  Ba    0         0         0               -0\n",
      "  1  Ni    0.5       0.761672  0.261672        -0\n",
      "  2  Ni    0.5       0.238328  0.738328        -0\n",
      "  3  P     0.754485  0.5       0.254485        -0\n",
      "  4  P     0.245515  0.5       0.745515        -0\n",
      "  5  P     0.760674  0.260674  0.5              0\n",
      "  6  P     0.239326  0.739326  0.5              0\n"
     ]
    }
   ],
   "metadata": {}
  },
  {
   "cell_type": "code",
   "execution_count": 27,
   "source": [
    "from __future__ import print_function\n",
    "import ase.db\n",
    "from ase.phasediagram import PhaseDiagram\n",
    "\n",
    "con = ase.db.connect('cubic_perovskites.db')\n",
    "\n",
    "references = [(row.formula, row.energy)\n",
    "              for row in con.select('reference')]\n",
    "for a in con.select():\n",
    "    print(a.combination)\n",
    "    break\n",
    "# with open('abo3.csv', 'w') as fd:\n",
    "    # print('# id, formula, heat of formation [eV/atom]', file=fd)\n",
    "    # for row in con.select(combination='ABO3'):\n",
    "    #     pd = PhaseDiagram(references, filter=row.formula, verbose=False)\n",
    "    #     energy = pd.decompose(row.formula)[0]\n",
    "    #     heat = (row.energy - energy) / row.natoms\n",
    "    #     if (heat < 0.21 and\n",
    "    #         (3.1 > row.gllbsc_ind_gap > 1.4 or\n",
    "    #          3.1 > row.gllbsc_dir_gap > 1.4) and\n",
    "    #         (row.VB_ind - 4.5 > 1.23 and row.CB_ind - 4.5 < 0 or\n",
    "    #          row.VB_dir - 4.5 > 1.23 and row.CB_dir - 4.5 < 0)):\n",
    "    #         formula = row.A_ion + row.B_ion + row.anion\n",
    "    #         print('{0}, {1}, {2:.3f}'.format(row.id, formula, heat), file=fd)\n"
   ],
   "outputs": [
    {
     "output_type": "stream",
     "name": "stdout",
     "text": [
      "ABO2N\n"
     ]
    }
   ],
   "metadata": {}
  },
  {
   "cell_type": "code",
   "execution_count": 2,
   "source": [
    "from cgcnn.data import CIFData\n",
    "test = CIFData('./data/sample-classification')\n"
   ],
   "outputs": [],
   "metadata": {}
  },
  {
   "cell_type": "code",
   "execution_count": 8,
   "source": [
    "test[0][0][2].shape"
   ],
   "outputs": [
    {
     "output_type": "execute_result",
     "data": {
      "text/plain": [
       "torch.Size([8, 12])"
      ]
     },
     "metadata": {},
     "execution_count": 8
    }
   ],
   "metadata": {}
  },
  {
   "cell_type": "code",
   "execution_count": 47,
   "source": [
    "from pymatgen.core.structure import Structure\n",
    "crystal = Structure.from_file('./data/sample-classification/9011998.cif')"
   ],
   "outputs": [],
   "metadata": {}
  },
  {
   "cell_type": "code",
   "execution_count": 52,
   "source": [
    "crystal[0].specie.number"
   ],
   "outputs": [
    {
     "output_type": "execute_result",
     "data": {
      "text/plain": [
       "14"
      ]
     },
     "metadata": {},
     "execution_count": 52
    }
   ],
   "metadata": {}
  },
  {
   "cell_type": "code",
   "execution_count": null,
   "source": [],
   "outputs": [],
   "metadata": {}
  }
 ],
 "metadata": {
  "orig_nbformat": 4,
  "language_info": {
   "name": "python",
   "version": "3.8.12",
   "mimetype": "text/x-python",
   "codemirror_mode": {
    "name": "ipython",
    "version": 3
   },
   "pygments_lexer": "ipython3",
   "nbconvert_exporter": "python",
   "file_extension": ".py"
  },
  "kernelspec": {
   "name": "python3",
   "display_name": "Python 3.8.12 64-bit ('3.8.12': pyenv)"
  },
  "interpreter": {
   "hash": "6469256810d439989848f6835e9ebc98b91a4c50ace421cc73345a462bc14f96"
  }
 },
 "nbformat": 4,
 "nbformat_minor": 2
}